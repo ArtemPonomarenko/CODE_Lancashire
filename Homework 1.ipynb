{
 "cells": [
  {
   "cell_type": "markdown",
   "metadata": {},
   "source": [
    "To complete the homework simply fill in your answers in this jupyter notebook!\n",
    "\n",
    "Remember that there are many ways in which markup cells can be used and you can add useful things such as references and images to better explain your answers.\n",
    "\n",
    "It is perfectly fine if you copy your answer from somewhere else in the internet as long as you understand the code you copied and cite the source. However, refrain from asking help for your colleagues (unless you're really struggling) as the ability to find information online is crucial for any tech role you might want to have in the future.\n",
    "\n",
    "<h1> Question 1: Multiple prints</h1>\n",
    "Create 3 different variables of different types and print their values using a single print statement."
   ]
  },
  {
   "cell_type": "code",
   "execution_count": 1,
   "metadata": {},
   "outputs": [
    {
     "name": "stdout",
     "output_type": "stream",
     "text": [
      "Artem 33 True\n"
     ]
    }
   ],
   "source": [
    "name = \"Artem\"\n",
    "age = 33\n",
    "married = True\n",
    "\n",
    "print(name, age, married)"
   ]
  },
  {
   "cell_type": "markdown",
   "metadata": {},
   "source": [
    "<h1> Question 2: Data structures</h1>\n",
    "Create two variables containing each a nested list and a nested dictionary and demonstrate how to access specific items of it."
   ]
  },
  {
   "cell_type": "code",
   "execution_count": 16,
   "metadata": {},
   "outputs": [
    {
     "name": "stdout",
     "output_type": "stream",
     "text": [
      "biology\n",
      "Luna\n"
     ]
    }
   ],
   "source": [
    "student = {\n",
    "    \"first_name\" : \"John\",\n",
    "    \"last_name\" : \"Smith\",\n",
    "    \"age\" : 23,\n",
    "    \"lazy\" : False,\n",
    "    \"classes\" : [\"biology\", \"chemistry\", \"physics\", \"mathematics\"]\n",
    "    }\n",
    "people = [{'name': 'John', 'age': '27', 'sex': 'Male'},\n",
    "          {'name': 'Marie', 'age': '22', 'sex': 'Female'},\n",
    "          {'name': 'Luna', 'age': '24', 'sex': 'Female'},\n",
    "          {'name': 'Peter', 'age': '29', 'sex': 'Male'}]\n",
    "print(student[\"classes\"][0])\n",
    "print(people[2][\"name\"])"
   ]
  },
  {
   "cell_type": "markdown",
   "metadata": {},
   "source": [
    "Now consider the following list,"
   ]
  },
  {
   "cell_type": "code",
   "execution_count": 149,
   "metadata": {},
   "outputs": [
    {
     "name": "stdout",
     "output_type": "stream",
     "text": [
      "[1, 2, 3, 4]\n",
      "1\n",
      "2\n",
      "3\n",
      "4\n",
      "[1, 2, 3, 4]\n",
      "1\n",
      "2\n",
      "3\n",
      "4\n",
      "[2, 4, 6, 8]\n",
      "1\n",
      "2\n",
      "3\n",
      "4\n",
      "[3, 6, 9]\n",
      "3\n",
      "6\n",
      "9\n",
      "Hello, dear friend John\n",
      "Hello, dear friend Emma\n",
      "Hello, dear friend Jack\n",
      "Hello, dear friend Peter\n",
      "Hello, dear friend Chris\n",
      "Hello, dear friend Nick\n"
     ]
    }
   ],
   "source": [
    "a_list = [1,2,3,4,5,6,7,8,9]\n",
    "#1 - slice this list to contain only the numbers smaller than 5;\n",
    "    #a Using Filter\n",
    "def is_less_than_5(x):\n",
    "    if x < 5:\n",
    "        return True\n",
    "    else:\n",
    "        return False\n",
    "\n",
    "sliced_list = list(filter(is_less_than_5, a_list)) #Filter returns an iterator, turn it into a list\n",
    "print(sliced_list)\n",
    "for x in sliced_list:\n",
    "    print(x)\n",
    "    #b Using List comprehension\n",
    "newlist = [x for x in a_list if x < 5]\n",
    "print(new_list)\n",
    "for x in new_list:\n",
    "    print(x)\n",
    "#2 - make a loop to create a new list containing only the EVEN numbers of this list (bonus point if you use a list comprehension!!);\n",
    "even_list = [x for x in a_list if x%2==0]\n",
    "print(even_list)\n",
    "for x in new_list:\n",
    "    print(x)\n",
    "#3 - make a loop to create a new list containing only the numbers that are multiples of 3;\n",
    "odd_list = [x for x in a_list if x%3==0]\n",
    "print(odd_list)\n",
    "for x in odd_list:\n",
    "    print(x)\n",
    "#Bonus - make a loop that will print every item on the list inside a sentence using a f-string.\n",
    "names = [\"John\", \"Emma\", \"Jack\", \"Peter\", \"Chris\", \"Nick\"]\n",
    "for i in names:\n",
    "    print(f\"Hello, dear friend {i}\")\n"
   ]
  },
  {
   "cell_type": "markdown",
   "metadata": {},
   "source": [
    "1 - slice this list (by index) to contain only the numbers smaller than 5; <br>\n",
    "2 - make a loop to create a new list containing only the EVEN numbers of this list (bonus point if you use a list comprehension!!);<br>\n",
    "3 - make a loop to create a new list containing only the numbers that are multiples of 3;<br>\n",
    "Bonus - make a loop that will print every item on the list inside a sentence using a f-string."
   ]
  },
  {
   "cell_type": "markdown",
   "metadata": {},
   "source": [
    "<h1>Question 3: Creating functions</h1>\n",
    "\n",
    "Create a function that takes a list of numbers and convert them into strings. (bonus point if you use a list comprehension!!)"
   ]
  },
  {
   "cell_type": "code",
   "execution_count": 38,
   "metadata": {},
   "outputs": [
    {
     "name": "stdout",
     "output_type": "stream",
     "text": [
      "['1', '2', '3', '4', '5', '6', '7', '8', '9']\n",
      "['1', '2', '3', '4', '5', '6', '7', '8', '9']\n"
     ]
    }
   ],
   "source": [
    "def stringify(list):\n",
    "    result = []\n",
    "    for i in list:\n",
    "        result.append(str(i))\n",
    "    return result    \n",
    "new_list = stringify(a_list)\n",
    "print(new_list)   \n",
    "\n",
    "\n",
    "#Bonus\n",
    "new_list_2 = [str(list_item) for list_item in a_list]\n",
    "\n",
    "print(new_list_2)\n"
   ]
  },
  {
   "cell_type": "markdown",
   "metadata": {},
   "source": [
    "Create a small calculator. The function should pick two numbers and perform one of four mathematical operations with it (sum/subtraction, division, multiplication, exponents). The desired operation should be an option (hint: what IF the user wants to do a sum?)\n",
    "\n",
    "Bonus: Make a function that can pick ANY number of numbers."
   ]
  },
  {
   "cell_type": "code",
   "execution_count": 120,
   "metadata": {},
   "outputs": [
    {
     "name": "stdout",
     "output_type": "stream",
     "text": [
      "1000\n",
      "500.0\n",
      "100.0\n",
      "10.0\n"
     ]
    }
   ],
   "source": [
    "import operator\n",
    "#DON'T REPEAT YOURSELF version\n",
    "\n",
    "\n",
    "ops = {\n",
    "    '+' : operator.add,\n",
    "    '-' : operator.sub,\n",
    "    '*' : operator.mul,\n",
    "    '/' : operator.truediv,  # use operator.div for Python 2\n",
    "    '**' : operator.pow,\n",
    "}\n",
    "\n",
    "def calculate(operation, *args):\n",
    "  result = 0\n",
    "\n",
    "  for i in args:\n",
    "    if result == 0:\n",
    "      result = i\n",
    "      print(result)\n",
    "      continue\n",
    "    #using f-string to change the operation according to input\n",
    "    result = ops[f\"{operation}\"](result, i)\n",
    "    print(result)\n",
    "\n",
    "\n",
    "\n",
    "\"\"\" Long version. \n",
    "  if operation == \"+\":\n",
    "    return sum(args)\n",
    "  elif operation == \"**\":\n",
    "    for i in args:\n",
    "      if result == 0:\n",
    "        result = i\n",
    "        print(result)\n",
    "        continue\n",
    "      result **= i\n",
    "      print(result)\n",
    "  elif operation == \"-\":\n",
    "    for i in args:\n",
    "      if result == 0:\n",
    "        result = i\n",
    "        print(result)\n",
    "        continue\n",
    "      result = result - i\n",
    "  elif operation == \"*\":\n",
    "    for i in args:\n",
    "      if result == 0:\n",
    "        result = i\n",
    "        continue\n",
    "      result *= i\n",
    "      print(result)\n",
    "  elif operation == \"/\":\n",
    "    for i in args:\n",
    "      if result == 0:\n",
    "        result = i\n",
    "        continue\n",
    "      result /= i\n",
    "      print(result)\n",
    "  return result\n",
    "  \n",
    "# calculate(\"**\", 2,2,2,2)\n",
    "\"\"\"\n",
    "#Ask user to input the operation\n",
    "operation = input(\"pick one of : +, -, *, /, **\")\n",
    "#Ask user to input the numbers and transform them into a list\n",
    "set_of_numbers = tuple(map(int, input(\"pick any amount of numbers divided by coma (e.g: 2,2,2,2,2)\").split(',')))\n",
    "\n",
    "calculate(operation, *set_of_numbers)\n",
    "\n"
   ]
  },
  {
   "cell_type": "markdown",
   "metadata": {},
   "source": [
    "Create a function that check if a number is within a list of numbers."
   ]
  },
  {
   "cell_type": "code",
   "execution_count": 23,
   "metadata": {},
   "outputs": [
    {
     "name": "stdout",
     "output_type": "stream",
     "text": [
      "number is not on the list\n",
      "25 is in this list\n"
     ]
    }
   ],
   "source": [
    "def look_for_number(number, list):\n",
    "  if number in list:\n",
    "    print(number, \"is on this list\")\n",
    "  else:\n",
    "    print(\"number is not on the list\")\n",
    "    return \n",
    "look_for_number(15, a_list)\n",
    "look_for_number(25, range(20, 30))"
   ]
  },
  {
   "cell_type": "markdown",
   "metadata": {},
   "source": [
    "Bonus: similar to the item above, create a function that checks if a string contains a given substring, e.g. 'I have a cat' contains the string sequence 'cat' or 'ave'."
   ]
  },
  {
   "cell_type": "code",
   "execution_count": 128,
   "metadata": {},
   "outputs": [
    {
     "name": "stdout",
     "output_type": "stream",
     "text": [
      "15 is in this list\n",
      "number is not on the list\n"
     ]
    }
   ],
   "source": [
    "def look_for_substring(substr, string):\n",
    "  if substr in string:\n",
    "    print(substr, \"is in the string\")\n",
    "  else:\n",
    "    print(\"substring is not in the string\")\n",
    "    return \n",
    "look_for_substring(\"15\", \"a_list 15\")\n",
    "look_for_substring(\"25\", \"There is2 5sdfg\")"
   ]
  },
  {
   "cell_type": "markdown",
   "metadata": {},
   "source": [
    "Bonus: create a function that given the initial speed of a projectile that is thrown at 90 degrees will calculate how much time the projectile will take to get back to the initial altitude. (yes you're expected to disregard air resistence)"
   ]
  },
  {
   "cell_type": "code",
   "execution_count": null,
   "metadata": {},
   "outputs": [],
   "source": [
    "\"\"\"\n",
    "Not yet finished\n",
    "\n",
    "A cannon ball is fired at an angle of 90° to the horizontal at a speed of 25ms-1 .\n",
    "a) How long will it be before the impact?\n",
    "a) When the particle hits the ground, y = 0.\n",
    "\n",
    "s = ut + ½ at2\n",
    "\n",
    "Applying this equation vertically, when the particle hits the ground:\n",
    "0 = 25Tsin90 - ½ gT2 (Where T is the time of flight) \n",
    "\n",
    "Therefore, T(25sin90 - ½ gT) = 0\n",
    "So T = 0 or T = (50sin90)/g\n",
    "\n",
    "\"\"\""
   ]
  },
  {
   "cell_type": "markdown",
   "metadata": {},
   "source": [
    "<h1>solve these questions...or ELSE</h1>\n",
    "\n",
    "Why the nested if statement below doesn't only produce the first print? Can you modify it so it produces the desired output?"
   ]
  },
  {
   "cell_type": "code",
   "execution_count": 12,
   "metadata": {},
   "outputs": [
    {
     "name": "stdout",
     "output_type": "stream",
     "text": [
      "Yeeeey!\n"
     ]
    }
   ],
   "source": [
    "food = 'Pizza'\n",
    "drinks = 'Beer'\n",
    "\"\"\"\n",
    "if food == 'Pizza' and drinks == 'Beer':\n",
    "    print('Yeeeey!')\n",
    "if food == 'Pizza' and drinks != 'Beer':\n",
    "    print('Yey.')\n",
    "if food != 'Pizza' and drinks == 'Beer':\n",
    "    print('Yey!')\n",
    "else:\n",
    "    print('.....???')\n",
    "\"\"\"\n",
    "#The else keyword catches anything which isn't caught by the preceding conditions. Use \"elif\" instead of \"if\" to prevent.\n",
    "if food == 'Pizza' and drinks == 'Beer':\n",
    "    print('Yeeeey!')\n",
    "elif food == 'Pizza' and drinks != 'Beer':\n",
    "    print('Yey.')\n",
    "elif food != 'Pizza' and drinks == 'Beer':\n",
    "    print('Yey!')\n",
    "else:\n",
    "    print('.....???')\n"
   ]
  },
  {
   "cell_type": "markdown",
   "metadata": {},
   "source": [
    "<h1> Debugging </h1>\n",
    "None of the blocks of code below work. Your task is to make them work (if possible!) and add markup cells (or comments) explaining why they don't work."
   ]
  },
  {
   "cell_type": "markdown",
   "metadata": {},
   "source": [
    "print(\"Is this working?\")"
   ]
  },
  {
   "cell_type": "code",
   "execution_count": 39,
   "metadata": {},
   "outputs": [
    {
     "name": "stdout",
     "output_type": "stream",
     "text": [
      "does this work?\n"
     ]
    }
   ],
   "source": [
    "#print(\"does this work?\")\n",
    "\n",
    "#Commented line of code is ignored. Remove \"#\" to work\n",
    "print(\"does this work?\")"
   ]
  },
  {
   "cell_type": "code",
   "execution_count": 42,
   "metadata": {},
   "outputs": [
    {
     "name": "stdout",
     "output_type": "stream",
     "text": [
      "about now?\n",
      "about now?\n"
     ]
    }
   ],
   "source": [
    "#print(\"about now?')\n",
    "#Different type of quotes on each side of the string. Syntax error. Use same type of quotes to work.\n",
    "print('about now?')\n",
    "#or\n",
    "print(\"about now?\")\n"
   ]
  },
  {
   "cell_type": "code",
   "execution_count": 43,
   "metadata": {},
   "outputs": [
    {
     "name": "stdout",
     "output_type": "stream",
     "text": [
      "Today on a scale from 1 to 10 I am feeling... 10\n"
     ]
    }
   ],
   "source": [
    "\"\"\"\n",
    "text_variable = \"Today on a scale from 1 to 10 I am feeling...\"\n",
    "my_mood = 10\n",
    "print(text_variable my_mood)\n",
    "\"\"\"\n",
    "\n",
    "# Coma is needed to separate arguments in a function call.\n",
    "\n",
    "text_variable = \"Today on a scale from 1 to 10 I am feeling...\"\n",
    "my_mood = 10\n",
    "print(text_variable, my_mood)"
   ]
  },
  {
   "cell_type": "code",
   "execution_count": 46,
   "metadata": {},
   "outputs": [
    {
     "name": "stdout",
     "output_type": "stream",
     "text": [
      "Today on a scale from 1 to 10 I am feeling...10\n"
     ]
    }
   ],
   "source": [
    "\n",
    "\"\"\"\n",
    "text_variable = \"Today on a scale from 1 to 10 I am feeling...\"\n",
    "my_mood = 10\n",
    "#Yep there are ways to make it work with a + operator too!\n",
    "\"\"\"\n",
    "#Need to convert integer into a string in order to concatenation to work.\n",
    "print(text_variable+str(my_mood))"
   ]
  },
  {
   "cell_type": "code",
   "execution_count": 47,
   "metadata": {},
   "outputs": [
    {
     "name": "stdout",
     "output_type": "stream",
     "text": [
      "Value 1\n"
     ]
    }
   ],
   "source": [
    "\"\"\"\n",
    "a_dictionary = {item1: 'Value 1',\n",
    "                item2: 'value 2',}\n",
    "\"\"\"\n",
    "\n",
    "#A key should be a string.\n",
    "\n",
    "a_dictionary = {\"item1\": 'Value 1',\n",
    "                \"item2\": 'value 2',}\n",
    "print(a_dictionary['item1'])"
   ]
  },
  {
   "cell_type": "code",
   "execution_count": 48,
   "metadata": {},
   "outputs": [
    {
     "data": {
      "text/plain": [
       "True"
      ]
     },
     "execution_count": 48,
     "metadata": {},
     "output_type": "execute_result"
    }
   ],
   "source": [
    "\"\"\"\n",
    "1 = 1 # Should return True\n",
    "\"\"\"\n",
    "#Double \"=\" is needed for comparison.\n",
    "\n",
    "1 == 1"
   ]
  },
  {
   "cell_type": "code",
   "execution_count": 50,
   "metadata": {},
   "outputs": [
    {
     "name": "stdout",
     "output_type": "stream",
     "text": [
      "Clap your hands\n"
     ]
    }
   ],
   "source": [
    "# Why isn't the outcome 'Clap your hands?'\n",
    "\"\"\"\n",
    "mood = 'happy'\n",
    "if mood == 'Happy':\n",
    "    print('Clap your hands')\n",
    "else:\n",
    "    print('...do I look like I have this one figured out?')\n",
    "\"\"\"\n",
    "#Comparison is case sensetive. \"happy\" == \"happy\" && \"Happy\" == \"Happy\" => True\n",
    "mood = 'Happy'\n",
    "if mood == 'Happy':\n",
    "    print('Clap your hands')\n",
    "else:\n",
    "    print('...do I look like I have this one figured out?')"
   ]
  },
  {
   "cell_type": "code",
   "execution_count": 52,
   "metadata": {},
   "outputs": [
    {
     "name": "stdout",
     "output_type": "stream",
     "text": [
      "a word another word\n"
     ]
    }
   ],
   "source": [
    "\"\"\"\n",
    "def printerfunction(x,y):\n",
    "print(x,y)\n",
    "\"\"\"\n",
    "#Function declaration requires indentation.\n",
    "def printerfunction(x,y):\n",
    "    print(x,y)\n",
    "printerfunction(\"a word\", \"another word\")"
   ]
  },
  {
   "cell_type": "code",
   "execution_count": 58,
   "metadata": {},
   "outputs": [
    {
     "name": "stdout",
     "output_type": "stream",
     "text": [
      "...do I look like I have this one figured out?\n"
     ]
    }
   ],
   "source": [
    "# bonus/annoying round, why is this crashing?\n",
    "mood = 'happy'\n",
    "if mood == 'Happy':\n",
    "   print('Clap your hands')\n",
    "else:\n",
    "    print('...do I look like I have this one figured out?')\n",
    "\n",
    "#It doesn't crash on my computer... it prints the \"else\" statement.\n",
    "#Maybe it could crash because of an extra space in indentation of an else statement? \n",
    "\n",
    "\n",
    "\n",
    "#testing git hub\n"
   ]
  }
 ],
 "metadata": {
  "kernelspec": {
   "display_name": "Python 3.9.12 ('base')",
   "language": "python",
   "name": "python3"
  },
  "language_info": {
   "codemirror_mode": {
    "name": "ipython",
    "version": 3
   },
   "file_extension": ".py",
   "mimetype": "text/x-python",
   "name": "python",
   "nbconvert_exporter": "python",
   "pygments_lexer": "ipython3",
   "version": "3.9.12"
  },
  "vscode": {
   "interpreter": {
    "hash": "3072bc24971c46a39d3bf7b087f3dcb97fdcabd0812fd462d579834c9e001dab"
   }
  }
 },
 "nbformat": 4,
 "nbformat_minor": 4
}
