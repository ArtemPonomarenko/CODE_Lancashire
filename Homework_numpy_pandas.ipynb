{
 "cells": [
  {
   "cell_type": "markdown",
   "metadata": {},
   "source": [
    "<h1>Homework 2</h1>\n",
    "In this notebook there are the activities related to the second homework and, as with the first homework, feel free to use the web to find the solutions to any of these problems. Also, the bonus questions are not mandatory but, if you happen to have the time, try them out too!<br>\n",
    "\n"
   ]
  },
  {
   "cell_type": "markdown",
   "metadata": {},
   "source": [
    "<h1>numpy</h1>\n",
    "Exercise 1: show that now you can import libraries by importing pandas, numpy and matplotlib."
   ]
  },
  {
   "cell_type": "code",
   "execution_count": 163,
   "metadata": {},
   "outputs": [],
   "source": [
    "import numpy as np\n",
    "import pandas as pd\n",
    "import matplotlib.pyplot as plt\n",
    "import sys"
   ]
  },
  {
   "cell_type": "markdown",
   "metadata": {},
   "source": [
    "Exercise 2: Will the following code block work?  "
   ]
  },
  {
   "cell_type": "markdown",
   "metadata": {},
   "source": []
  },
  {
   "cell_type": "code",
   "execution_count": 40,
   "metadata": {},
   "outputs": [
    {
     "name": "stdout",
     "output_type": "stream",
     "text": [
      "[[ 3. 59. 93.]\n",
      " [39. 58. 21.]\n",
      " [20. 22. 49.]]\n",
      "[[64.]\n",
      " [60.]\n",
      " [30.]]\n",
      "[[ 67. 123. 157.]\n",
      " [ 99. 118.  81.]\n",
      " [ 50.  52.  79.]]\n"
     ]
    }
   ],
   "source": [
    "# This creates a 3x3 array of random numbers ranging from 1 to 100\n",
    "array1 = np.round_((np.random.random((3, 3)))*100)\n",
    "\n",
    "#Second one creates a 3 x 1 array of random mumbers from 1 to 100\n",
    "array2 = np.round_((np.random.random((3, 1)))*100)\n",
    "\n",
    "print(array1)\n",
    "print(array2)\n",
    "\n",
    "#Adds the values of 3x1 array to the values of each colomn of the 3x3 array\n",
    "print(np.add(array1,array2))"
   ]
  },
  {
   "cell_type": "markdown",
   "metadata": {},
   "source": [
    "Exercise 3: What about now?"
   ]
  },
  {
   "cell_type": "code",
   "execution_count": 393,
   "metadata": {},
   "outputs": [],
   "source": [
    "# This creates a 3x3 array of random numbers ranging from 1 to 100\n",
    "array3 = np.round_((np.random.random((3, 3)))*100)\n",
    "array4 = np.round_((np.random.random((3, 2)))*100)\n",
    "\n",
    "# np.add(array3,array4)\n",
    "\n",
    "#3x2 array can not be added to 3x3 array "
   ]
  },
  {
   "cell_type": "markdown",
   "metadata": {},
   "source": [
    "Exercise 4: by inspecting the arrays 1 to 4 can you figure out why one operation worked and another one didn't? (hint: check their values and shape)"
   ]
  },
  {
   "cell_type": "code",
   "execution_count": null,
   "metadata": {},
   "outputs": [],
   "source": [
    "#Exercise 1:  Adds the values of 3x1 array to the values of each colomn of the 3x3 array\n",
    "#Exercise 2: 3x2 array can not be added to 3x3 array "
   ]
  },
  {
   "cell_type": "markdown",
   "metadata": {},
   "source": [
    "Exercise 5: Using the function to create an array of random numbers [np.random.random](https://numpy.org/doc/stable/reference/random/generated/numpy.random.random.html) how can you modify the code (as in the cells above) so that the numbers will vary between 0 and 100 instead of 0 and 1? And how can you modify the shape of the function?"
   ]
  },
  {
   "cell_type": "code",
   "execution_count": 58,
   "metadata": {},
   "outputs": [
    {
     "name": "stdout",
     "output_type": "stream",
     "text": [
      "[[58. 95. 66. 21. 37.]\n",
      " [45.  6. 65. 80. 27.]]\n",
      "[[ 3. 31.]\n",
      " [12. 22.]\n",
      " [69. 19.]\n",
      " [67. 35.]]\n"
     ]
    }
   ],
   "source": [
    "#I multiplyed the result by 100 and rounded it. \n",
    "#To change the shape of the array, manipulate the arguments of the np.random.random() function. First number is rows, second is columns\n",
    "array5 = np.round_((np.random.random((2, 5)))*100)\n",
    "\n",
    "array6 = np.round_((np.random.random((4, 2)))*100)\n",
    "\n",
    "print(array5)\n",
    "print(array6)"
   ]
  },
  {
   "cell_type": "markdown",
   "metadata": {},
   "source": [
    "Exercise 6: Using the array defined on the exercise above, use [np.where](https://numpy.org/doc/stable/reference/generated/numpy.where.html) to find the positions the values that are larger than 50 (or feel free to pick any other number)."
   ]
  },
  {
   "cell_type": "code",
   "execution_count": 62,
   "metadata": {},
   "outputs": [
    {
     "name": "stdout",
     "output_type": "stream",
     "text": [
      "(array([0, 0, 0, 1, 1]), array([0, 1, 2, 2, 3]))\n",
      "(array([2, 3]), array([0, 0]))\n"
     ]
    }
   ],
   "source": [
    "print(np.where(array5>50))\n",
    "print(np.where(array6>50))"
   ]
  },
  {
   "cell_type": "markdown",
   "metadata": {},
   "source": [
    "<h1>Pandas </h1>\n",
    "There are two datasets on available to this work one is the pokemon dataset we explored in the lectured and the other one is the same dataframe but, for the sake of a nice story, let us say it was sabotaged by team rocket.\n",
    "\n",
    "Exercise 1: open both dataframes supplied using [pd.read_csv](https://pandas.pydata.org/docs/reference/api/pandas.read_csv.html) (and don't forget to assign them to different objects)."
   ]
  },
  {
   "cell_type": "code",
   "execution_count": 169,
   "metadata": {},
   "outputs": [],
   "source": [
    "pokemon_df = pd.read_csv(\"./Pokemon.csv\")\n",
    "sabotaged_pokemon_df = pd.read_csv(\"./Pokemon_sabotage.csv\")"
   ]
  },
  {
   "cell_type": "markdown",
   "metadata": {},
   "source": [
    "Exercise 2: Using [pd.isna](https://pandas.pydata.org/docs/reference/api/pandas.DataFrame.isna.html) check how many missing numbers are in each dataframe."
   ]
  },
  {
   "cell_type": "code",
   "execution_count": 392,
   "metadata": {},
   "outputs": [
    {
     "name": "stdout",
     "output_type": "stream",
     "text": [
      "386 cells are empty in original file\n",
      "399 cells are empty in damaged file\n"
     ]
    }
   ],
   "source": [
    "# print(missing_df.value_counts(['Name', 'Type 1', 'Type 2', 'Total', 'HP', 'Attack', 'Defense',\n",
    "#        'Sp. Atk', 'Sp. Def', 'Speed', 'Generation', 'Legendary']))\n",
    "#2\n",
    "print(pokemon_df.isna().sum().sum(),\"cells are empty in original file\")\n",
    "print(sabotaged_pokemon_df.isna().sum().sum(), \"cells are empty in damaged file\")\n",
    "\n"
   ]
  },
  {
   "cell_type": "markdown",
   "metadata": {},
   "source": [
    "Exercise 3: Two of the main ways to deal with missing data is [pd.dropna](https://pandas.pydata.org/docs/reference/api/pandas.DataFrame.dropna.html) and [pd.fillna](https://pandas.pydata.org/docs/reference/api/pandas.DataFrame.fillna.html). How are these methods different from each other in how they deal with the missing data? Which, if any, would you use on the dataset? Why?"
   ]
  },
  {
   "cell_type": "code",
   "execution_count": null,
   "metadata": {},
   "outputs": [],
   "source": [
    "#pd.dropna will delete columns or rows that contain NaN, pd.fillna would fill the missing cells with set values pd.fillna(0) for numbers or pd.fillna(\"missing\") for strings\n",
    "#I am not sure on this one.... My guess would be to fill them with preset values. \n",
    "#When we drop, do we drop the cells with data too?"
   ]
  },
  {
   "cell_type": "markdown",
   "metadata": {},
   "source": [
    "From now on we will only be working with the main (non sabotaged dataframe).<br>\n",
    "\n",
    "Exercise 4: to free up memory delete the sabotaged dataframe. Bonus: before deleting find a way to check how much space in memory the dataframes occupy. [hint](https://stackoverflow.com/questions/449560/how-do-i-determine-the-size-of-an-object-in-python)"
   ]
  },
  {
   "cell_type": "code",
   "execution_count": 191,
   "metadata": {},
   "outputs": [
    {
     "name": "stdout",
     "output_type": "stream",
     "text": [
      "199405\n",
      "199279 (bytes ?) was deleted\n"
     ]
    }
   ],
   "source": [
    "print(sys.getsizeof(pokemon_df))\n",
    "print(sys.getsizeof(sabotaged_pokemon_df), \"(bytes ?) was deleted\") \n",
    "del sabotaged_pokemon_df"
   ]
  },
  {
   "cell_type": "markdown",
   "metadata": {},
   "source": [
    "Exercise 5: Create a new column that contains the sum of the Attack, speed and defense stats."
   ]
  },
  {
   "cell_type": "code",
   "execution_count": 200,
   "metadata": {},
   "outputs": [
    {
     "data": {
      "text/html": [
       "<div>\n",
       "<style scoped>\n",
       "    .dataframe tbody tr th:only-of-type {\n",
       "        vertical-align: middle;\n",
       "    }\n",
       "\n",
       "    .dataframe tbody tr th {\n",
       "        vertical-align: top;\n",
       "    }\n",
       "\n",
       "    .dataframe thead th {\n",
       "        text-align: right;\n",
       "    }\n",
       "</style>\n",
       "<table border=\"1\" class=\"dataframe\">\n",
       "  <thead>\n",
       "    <tr style=\"text-align: right;\">\n",
       "      <th></th>\n",
       "      <th>Name</th>\n",
       "      <th>Atk + Spd + Def</th>\n",
       "    </tr>\n",
       "  </thead>\n",
       "  <tbody>\n",
       "    <tr>\n",
       "      <th>0</th>\n",
       "      <td>Bulbasaur</td>\n",
       "      <td>188</td>\n",
       "    </tr>\n",
       "    <tr>\n",
       "      <th>1</th>\n",
       "      <td>Ivysaur</td>\n",
       "      <td>245</td>\n",
       "    </tr>\n",
       "    <tr>\n",
       "      <th>2</th>\n",
       "      <td>Venusaur</td>\n",
       "      <td>325</td>\n",
       "    </tr>\n",
       "    <tr>\n",
       "      <th>3</th>\n",
       "      <td>VenusaurMega Venusaur</td>\n",
       "      <td>383</td>\n",
       "    </tr>\n",
       "    <tr>\n",
       "      <th>4</th>\n",
       "      <td>Charmander</td>\n",
       "      <td>199</td>\n",
       "    </tr>\n",
       "    <tr>\n",
       "      <th>...</th>\n",
       "      <td>...</td>\n",
       "      <td>...</td>\n",
       "    </tr>\n",
       "    <tr>\n",
       "      <th>795</th>\n",
       "      <td>Diancie</td>\n",
       "      <td>350</td>\n",
       "    </tr>\n",
       "    <tr>\n",
       "      <th>796</th>\n",
       "      <td>DiancieMega Diancie</td>\n",
       "      <td>430</td>\n",
       "    </tr>\n",
       "    <tr>\n",
       "      <th>797</th>\n",
       "      <td>HoopaHoopa Confined</td>\n",
       "      <td>320</td>\n",
       "    </tr>\n",
       "    <tr>\n",
       "      <th>798</th>\n",
       "      <td>HoopaHoopa Unbound</td>\n",
       "      <td>380</td>\n",
       "    </tr>\n",
       "    <tr>\n",
       "      <th>799</th>\n",
       "      <td>Volcanion</td>\n",
       "      <td>380</td>\n",
       "    </tr>\n",
       "  </tbody>\n",
       "</table>\n",
       "<p>800 rows × 2 columns</p>\n",
       "</div>"
      ],
      "text/plain": [
       "                      Name  Atk + Spd + Def\n",
       "0                Bulbasaur              188\n",
       "1                  Ivysaur              245\n",
       "2                 Venusaur              325\n",
       "3    VenusaurMega Venusaur              383\n",
       "4               Charmander              199\n",
       "..                     ...              ...\n",
       "795                Diancie              350\n",
       "796    DiancieMega Diancie              430\n",
       "797    HoopaHoopa Confined              320\n",
       "798     HoopaHoopa Unbound              380\n",
       "799              Volcanion              380\n",
       "\n",
       "[800 rows x 2 columns]"
      ]
     },
     "execution_count": 200,
     "metadata": {},
     "output_type": "execute_result"
    }
   ],
   "source": [
    "pokemon_df['Atk + Spd + Def'] = pokemon_df['HP'] + pokemon_df[\"Attack\"] +pokemon_df['Defense'] + pokemon_df[\"Speed\"]\n",
    "pokemon_df[[\"Name\", 'Atk + Spd + Def']]"
   ]
  },
  {
   "cell_type": "markdown",
   "metadata": {},
   "source": [
    "Exercise 6: Find out the mean value of the attack, speed, defense columns and the new column that was created above."
   ]
  },
  {
   "cell_type": "code",
   "execution_count": 218,
   "metadata": {},
   "outputs": [
    {
     "data": {
      "text/plain": [
       "Attack              79.00125\n",
       "Defense             73.84250\n",
       "Speed               68.27750\n",
       "Atk + Spd + Def    290.38000\n",
       "dtype: float64"
      ]
     },
     "execution_count": 218,
     "metadata": {},
     "output_type": "execute_result"
    }
   ],
   "source": [
    "pokemon_df[[\"Attack\", \"Defense\", \"Speed\", \"Atk + Spd + Def\"]].mean()"
   ]
  },
  {
   "cell_type": "markdown",
   "metadata": {},
   "source": [
    "Exercise 7: Find out how many pokemon have above average stats in the attack, speed, defense and the new column. Bonus: Do the pokemon with above average stats have a preffered type?"
   ]
  },
  {
   "cell_type": "code",
   "execution_count": 389,
   "metadata": {},
   "outputs": [
    {
     "name": "stdout",
     "output_type": "stream",
     "text": [
      "Average:\n",
      "-----------------------------\n",
      "Attack              79.00125\n",
      "Speed               68.27750\n",
      "Defense             73.84250\n",
      "Atk + Spd + Def    290.38000\n",
      "dtype: float64\n",
      "-----------------------------\n",
      "                          Name  Attack  Speed  Defense  Atk + Spd + Def\n",
      "2                     Venusaur      82     80       83              325\n",
      "3        VenusaurMega Venusaur     100     80      123              383\n",
      "6                    Charizard      84    100       78              340\n",
      "7    CharizardMega Charizard X     130    100      111              419\n",
      "8    CharizardMega Charizard Y     104    100       78              360\n",
      "..                         ...     ...    ...      ...              ...\n",
      "792                    Xerneas     131     99       95              451\n",
      "793                    Yveltal     131     99       95              451\n",
      "794           Zygarde50% Forme     100     95      121              424\n",
      "796        DiancieMega Diancie     160    110      110              430\n",
      "799                  Volcanion     110     70      120              380\n",
      "\n",
      "[147 rows x 5 columns]\n",
      "Flying      28\n",
      "Fighting    11\n",
      "Dragon      10\n",
      "Psychic     10\n",
      "Ground       8\n",
      "Steel        6\n",
      "Grass        5\n",
      "Poison       4\n",
      "Ice          4\n",
      "Dark         4\n",
      "Fire         4\n",
      "Fairy        3\n",
      "Water        2\n",
      "Electric     1\n",
      "Name: Type 2, dtype: int64\n",
      "Water       19\n",
      "Dragon      19\n",
      "Normal      15\n",
      "Fire        11\n",
      "Bug         10\n",
      "Psychic      9\n",
      "Grass        8\n",
      "Steel        8\n",
      "Rock         7\n",
      "Ground       7\n",
      "Ghost        6\n",
      "Fighting     6\n",
      "Dark         6\n",
      "Poison       5\n",
      "Ice          5\n",
      "Electric     3\n",
      "Fairy        2\n",
      "Flying       1\n",
      "Name: Type 1, dtype: int64\n"
     ]
    }
   ],
   "source": [
    "#=================\n",
    "#Define mean stats\n",
    "\n",
    "#Couldn't figure out how to compare it to one entity rather than creating a separate variables.\n",
    "#=================\n",
    "avg_attack = pokemon_df[\"Attack\"].mean()\n",
    "avg_speed = pokemon_df[\"Speed\"].mean()\n",
    "avg_defence = pokemon_df[\"Defense\"].mean()\n",
    "avg_combine = pokemon_df[\"Atk + Spd + Def\"].mean()\n",
    "#==============================\n",
    "#Print mean stats\n",
    "#==============================\n",
    "print(f\"Average:\\n-----------------------------\\n{avg}\\n-----------------------------\")\n",
    "\n",
    "#===================================\n",
    "#Filter by stats bigger than average\n",
    "#===================================\n",
    "filtered_df = pokemon_df[(pokemon_df['Attack'] > avg_attack) & (pokemon_df['Speed'] > avg_speed) & (pokemon_df['Defense'] > avg_defence) & (pokemon_df[\"Atk + Spd + Def\"] > avg_combine)]\n",
    "#=============\n",
    "#Print the results\n",
    "#============\n",
    "print(\n",
    "    filtered_df[[\"Name\", \"Attack\", \"Speed\", \"Defense\", \"Atk + Spd + Def\"]]\n",
    ")\n",
    "#====================\n",
    "#Define which type has bigger max value and print the results\n",
    "#====================\n",
    "if max(filtered_df['Type 1'].value_counts().sum() > max(filtered_df['Type 2'].value_counts().sum()): \n",
    "    print(filtered_df['Type 1'].value_counts())\n",
    "else:\n",
    "    print(filtered_df['Type 2'].value_counts().sum())\n",
    "print(filtered_df['Type 1'].value_counts().sum())"
   ]
  },
  {
   "cell_type": "markdown",
   "metadata": {},
   "source": [
    "Super bonus: There are many platforms out there that contain different tools to boost your learning. Then for the super bonus create an account on [kaggle](https://www.kaggle.com/) and complete the courses\n",
    "[intro to programming](https://www.kaggle.com/learn/intro-to-programming) and [intro to python](https://www.kaggle.com/learn/python) courses. All kaggle courses are free of charge and offer a [certificate](https://www.kaggle.com/learn-course-certificates) !"
   ]
  },
  {
   "cell_type": "code",
   "execution_count": null,
   "metadata": {},
   "outputs": [],
   "source": [
    "\n",
    "\n",
    "#Subscribed\n",
    "\n",
    "\n",
    "\n"
   ]
  }
 ],
 "metadata": {
  "kernelspec": {
   "display_name": "Python 3.10.6 64-bit",
   "language": "python",
   "name": "python3"
  },
  "language_info": {
   "codemirror_mode": {
    "name": "ipython",
    "version": 3
   },
   "file_extension": ".py",
   "mimetype": "text/x-python",
   "name": "python",
   "nbconvert_exporter": "python",
   "pygments_lexer": "ipython3",
   "version": "3.10.6"
  },
  "vscode": {
   "interpreter": {
    "hash": "aee8b7b246df8f9039afb4144a1f6fd8d2ca17a180786b69acc140d282b71a49"
   }
  }
 },
 "nbformat": 4,
 "nbformat_minor": 4
}
